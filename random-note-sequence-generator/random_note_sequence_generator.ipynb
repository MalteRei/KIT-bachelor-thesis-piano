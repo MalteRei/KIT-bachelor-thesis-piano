{
    "cells": [
        {
            "cell_type": "code",
            "execution_count": 19,
            "source": [
                "import numpy as np\r\n",
                "import math\r\n",
                "\r\n",
                "class NoteDuration:\r\n",
                "\r\n",
                "    def __init__(self, duration, name):\r\n",
                "        self.duration = duration\r\n",
                "        self.name = name\r\n",
                "\r\n",
                "class Note:\r\n",
                "    def __init__(self, index, finger, letter) -> None:\r\n",
                "        self.index = index\r\n",
                "        self.finger = finger\r\n",
                "        self.letter = letter\r\n",
                "\r\n",
                "# allowed notes to use in random sequence\r\n",
                "#notes = ['C','D','E','F','G']\r\n",
                "#notes_finger_and_index = [( 0, 'ThumbTip'),(2, 'IndexTip'),(4, 'MiddleTip'),(5, 'RingTip'),(7, 'PinkyTip')]\r\n",
                "\r\n",
                "notes = [Note(0, 'ThumbTip', 'C'),Note(2, 'IndexTip', 'D'),Note(4, 'MiddleTip', 'E'),Note(5, 'RingTip', 'F'),Note(7, 'PinkyTip', 'G')]\r\n",
                "types_of_notes = [NoteDuration(1/2,'half'), NoteDuration(1/4,'quarter')]\r\n",
                "\r\n",
                "length_for_sequence = 32\r\n",
                "\r\n",
                "number_of_notes_per_section = 4\r\n",
                "\r\n",
                "number_of_sections = math.floor(length_for_sequence / number_of_notes_per_section)\r\n",
                "\r\n",
                "\r\n",
                "note_types_in_sequence = []\r\n",
                "\r\n",
                "min_note_type = min(types_of_notes, key=lambda type_note: type_note.duration)\r\n",
                "\r\n",
                "for i in range(number_of_sections):\r\n",
                "    remainder = 1\r\n",
                "    for j in range(number_of_notes_per_section):\r\n",
                "        if(remainder == 0):\r\n",
                "            break\r\n",
                "        if(remainder <= min_note_type.duration):\r\n",
                "            note_types_in_sequence.append(min_note_type)\r\n",
                "            break\r\n",
                "        note_type = np.random.choice(types_of_notes, replace=True)\r\n",
                "        remainder -= note_type.duration\r\n",
                "        note_types_in_sequence.append(note_type)\r\n",
                "\r\n",
                "\r\n",
                "\r\n",
                "# create array of random notes\r\n",
                "random_notes = np.random.choice(notes, size=len(note_types_in_sequence), replace=True)\r\n",
                "\r\n",
                "\r\n",
                "result_sequence = list(zip(note_types_in_sequence, random_notes))\r\n",
                "\r\n",
                "\r\n",
                "for note_type, note in result_sequence:\r\n",
                "    print(f'randomSequenceNotes.Add(new SingleNoteStep(new NoteToPlay({note.index}, TrackedHandJoint.{note.finger}), {note_type.name}));')"
            ],
            "outputs": [
                {
                    "output_type": "error",
                    "ename": "TypeError",
                    "evalue": "cannot unpack non-iterable NoteDuration object",
                    "traceback": [
                        "\u001b[1;31m---------------------------------------------------------------------------\u001b[0m",
                        "\u001b[1;31mTypeError\u001b[0m                                 Traceback (most recent call last)",
                        "\u001b[1;32m<ipython-input-19-088bfff47d79>\u001b[0m in \u001b[0;36m<module>\u001b[1;34m\u001b[0m\n\u001b[0;32m     53\u001b[0m \u001b[1;33m\u001b[0m\u001b[0m\n\u001b[0;32m     54\u001b[0m \u001b[1;33m\u001b[0m\u001b[0m\n\u001b[1;32m---> 55\u001b[1;33m \u001b[1;32mfor\u001b[0m \u001b[1;33m(\u001b[0m\u001b[0mindex\u001b[0m\u001b[1;33m,\u001b[0m \u001b[0mfinger\u001b[0m\u001b[1;33m)\u001b[0m\u001b[1;33m,\u001b[0m \u001b[0mnote_type\u001b[0m \u001b[1;32min\u001b[0m \u001b[0mresult_sequence\u001b[0m\u001b[1;33m:\u001b[0m\u001b[1;33m\u001b[0m\u001b[1;33m\u001b[0m\u001b[0m\n\u001b[0m\u001b[0;32m     56\u001b[0m     \u001b[0mprint\u001b[0m\u001b[1;33m(\u001b[0m\u001b[1;34mf'randomSequenceNotes.Add(new SingleNoteStep(new NoteToPlay({index}, TrackedHandJoint.{finger}), {note_type.name}));'\u001b[0m\u001b[1;33m)\u001b[0m\u001b[1;33m\u001b[0m\u001b[1;33m\u001b[0m\u001b[0m\n",
                        "\u001b[1;31mTypeError\u001b[0m: cannot unpack non-iterable NoteDuration object"
                    ]
                }
            ],
            "metadata": {}
        }
    ],
    "metadata": {
        "orig_nbformat": 4,
        "language_info": {
            "name": "python",
            "version": "3.8.8",
            "mimetype": "text/x-python",
            "codemirror_mode": {
                "name": "ipython",
                "version": 3
            },
            "pygments_lexer": "ipython3",
            "nbconvert_exporter": "python",
            "file_extension": ".py"
        },
        "kernelspec": {
            "name": "python3",
            "display_name": "Python 3.8.8 64-bit ('base': conda)"
        },
        "interpreter": {
            "hash": "d9d8773375c34bc59fa11cb05bf413bc4169a90c46e58e92f9ae41e72c0ae09c"
        }
    },
    "nbformat": 4,
    "nbformat_minor": 2
}