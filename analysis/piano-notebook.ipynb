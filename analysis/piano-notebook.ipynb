{
    "cells": [
        {
            "cell_type": "markdown",
            "source": [
                "## Notebook for \"Investigating the Learing Rate with Haptic Actuators in Mixed Reality short\""
            ],
            "metadata": {}
        },
        {
            "cell_type": "code",
            "execution_count": null,
            "source": [
                "import numpy as np\r\n",
                "import pandas as pd\r\n",
                "import matplotlib.pyplot as plt\r\n",
                "from scipy.stats import shapiro, levene, ttest_ind, ttest_rel"
            ],
            "outputs": [],
            "metadata": {}
        },
        {
            "cell_type": "markdown",
            "source": [
                "# Helper functions\r\n",
                "To calculate the error between two piano sequences we use dynamic time warping"
            ],
            "metadata": {}
        },
        {
            "cell_type": "code",
            "execution_count": null,
            "source": [
                "def dtw(s, t, dist):\r\n",
                "    \"\"\"\r\n",
                "    input:\r\n",
                "        s, t: a series of data points\r\n",
                "        dist: distance function\r\n",
                "    output:\r\n",
                "        d: the distance between s and t\r\n",
                "    \"\"\"\r\n",
                "    n, m = len(s), len(t)\r\n",
                "    dtw_matrix = np.zeros((n+1, m+1))\r\n",
                "    for i in range(n+1):\r\n",
                "        for j in range(m+1):\r\n",
                "            dtw_matrix[i, j] = np.inf\r\n",
                "    dtw_matrix[0, 0] = 0\r\n",
                "    \r\n",
                "    for i in range(1, n+1):\r\n",
                "        for j in range(1, m+1):\r\n",
                "            cost = dist(s[i-1], t[j-1])\r\n",
                "            # take last min from a square box\r\n",
                "            last_min = np.min([dtw_matrix[i-1, j], dtw_matrix[i, j-1], dtw_matrix[i-1, j-1]])\r\n",
                "            dtw_matrix[i, j] = cost + last_min\r\n",
                "    return dtw_matrix[-1,-1]"
            ],
            "outputs": [],
            "metadata": {}
        },
        {
            "cell_type": "markdown",
            "source": [
                "To apply dynamic time warping to a sequence of keys we need to define the distance between two keys, because piano keys do not have a canonical distance.\r\n",
                "\r\n",
                "Applying dynamic time warping to calculate an error on the rhythm of a piano sequence we do not need to define our own distance, because the rhythm is measured in seconds."
            ],
            "metadata": {}
        },
        {
            "cell_type": "code",
            "execution_count": null,
            "source": [
                "def distance_piano_keys(key, otherKey):\r\n",
                "    return 0 if key == otherKey else 1"
            ],
            "outputs": [],
            "metadata": {}
        },
        {
            "cell_type": "markdown",
            "source": [
                "Here is an example applying dynamic time warping to calculate the error between two piano sequences."
            ],
            "metadata": {}
        },
        {
            "cell_type": "code",
            "execution_count": null,
            "source": [
                "\r\n",
                "# create list of characters\r\n",
                "original_keys_sequence = ['C', 'D', 'E', 'C', 'G', 'F', 'D', 'D', 'F', 'E', 'C']\r\n",
                "performed_keys_sequence = ['C', 'E', 'E', 'C',  'F', 'D', 'D','C', 'F', 'E', 'C']\r\n",
                "\r\n",
                "# call dtw\r\n",
                "distance = dtw(original_keys_sequence, performed_keys_sequence, dist=distance_piano_keys)\r\n",
                "distance\r\n"
            ],
            "outputs": [],
            "metadata": {}
        },
        {
            "cell_type": "code",
            "execution_count": null,
            "source": [
                "#get list of files in directory\r\n",
                "def get_json_file_list(dir_path):\r\n",
                "    import os\r\n",
                "    file_list = []\r\n",
                "    for root, dirs, files in os.walk(dir_path):\r\n",
                "        for file in files:\r\n",
                "            if file.endswith(\".json\"):\r\n",
                "                file_list.append(os.path.join(root, file))\r\n",
                "    return file_list\r\n",
                "\r\n",
                "# parse json file\r\n",
                "def parse_json_file(file_path):\r\n",
                "    import json\r\n",
                "    with open(file_path) as json_file:\r\n",
                "        json_data = json.load(json_file)\r\n",
                "    return json_data\r\n",
                "\r\n",
                "def map_test_tries(json_data_try, func):\r\n",
                "    return list(map(func, json_data_try['testTries']))\r\n",
                "\r\n",
                "def map_press_sequence(json_data_press_sequence, func):\r\n",
                "    return list(map(func, json_data_press_sequence['pressSequence']))\r\n",
                "\r\n",
                "def extract_name_of_key(json_data_press):\r\n",
                "    return json_data_press['nameOfKey']\r\n",
                "\r\n",
                "def extract_seconds_from_previous_key_press(json_data_press):\r\n",
                "    return json_data_press['secondsFromPreviousKeyPress']\r\n",
                "\r\n",
                "def insert_into_dictionary(dictionary, key, to_insert):\r\n",
                "    dictionary[key] = to_insert\r\n",
                "    return dictionary"
            ],
            "outputs": [],
            "metadata": {}
        },
        {
            "cell_type": "code",
            "execution_count": null,
            "source": [
                "def birthday_to_age(birthdays_data_frame):\r\n",
                "    year_to_subtract = (birthdays_data_frame['reference'].month, birthdays_data_frame['reference'].day) < (birthdays_data_frame['born'].month, birthdays_data_frame['born'].day)\r\n",
                "    years = birthdays_data_frame['reference'].year - birthdays_data_frame['born'].year\r\n",
                "    return  years - (year_to_subtract)"
            ],
            "outputs": [],
            "metadata": {}
        },
        {
            "cell_type": "code",
            "execution_count": null,
            "source": [
                "def explorative_statistic_for_t_test(dataframe, dependent_variable):\r\n",
                "    width = 0.35\r\n",
                "    # Creating plot\r\n",
                "    plt.boxplot(dataframe.loc[dataframe['Treatment Participant Received']=='Holographic haptics',dependent_variable], widths=width, labels=['Holographic haptics'])\r\n",
                "\r\n",
                "    plt.boxplot(dataframe.loc[dataframe['Treatment Participant Received']=='Holographic visual only',dependent_variable], widths=width, positions=[width], labels=['Holographic visual only'])\r\n",
                "    \r\n",
                "    plt.ylabel(dependent_variable)\r\n",
                "    # show plot\r\n",
                "    plt.show()  \r\n",
                "\r\n",
                "    print(shapiro(dataframe_with_results.loc[dataframe_with_results['Treatment Participant Received']=='Holographic haptics',dependent_variable]))\r\n",
                "\r\n",
                "    print(shapiro(dataframe_with_results.loc[dataframe_with_results['Treatment Participant Received']=='Holographic visual only',dependent_variable]))\r\n",
                "\r\n",
                "    print(levene(dataframe_with_results.loc[dataframe_with_results['Treatment Participant Received']=='Holographic haptics',dependent_variable],dataframe_with_results.loc[dataframe_with_results['Treatment Participant Received']=='Holographic visual only',dependent_variable], center='mean'))\r\n",
                "    "
            ],
            "outputs": [],
            "metadata": {}
        },
        {
            "cell_type": "code",
            "execution_count": null,
            "source": [
                "# adopted from https://towardsdatascience.com/stacked-bar-charts-with-pythons-matplotlib-f4020e4eb4a7\r\n",
                "def plot_stackedbar_chart(df, labels, colors):\r\n",
                "    fields = df.columns.tolist()\r\n",
                "    \r\n",
                "    \r\n",
                "    fig, ax = plt.subplots(1)\r\n",
                "    fig.patch.set_alpha(1)\r\n",
                "\r\n",
                "    left = len(df) * [0]\r\n",
                "    \r\n",
                "    for idx, name in enumerate(fields):\r\n",
                "        val= df[name]\r\n",
                "        plt.barh(df.index, val, left = left, color=colors[idx], hatch=hatches[idx] )\r\n",
                "        left = left + val\r\n",
                "\r\n",
                "    plt.legend(labels, ncol=5, loc='center', bbox_to_anchor=(0.2,-0.2), fontsize=\"large\")\r\n",
                "\r\n",
                "    ax.spines['right'].set_visible(False)\r\n",
                "    ax.spines['left'].set_visible(False)\r\n",
                "    ax.spines['top'].set_visible(False)\r\n",
                "    ax.spines['bottom'].set_visible(False)\r\n",
                "\r\n",
                "    xticks = np.arange(0,1.1,0.1)\r\n",
                "    xlabels = ['{}%'.format(i) for i in np.arange(0,101,10)]\r\n",
                "    plt.xticks(xticks, xlabels)\r\n",
                "\r\n",
                "    plt.ylim(-0.5, ax.get_yticks()[-1] + 0.5)\r\n",
                "    ax.xaxis.grid(color='gray', linestyle='dashed')"
            ],
            "outputs": [],
            "metadata": {}
        },
        {
            "cell_type": "markdown",
            "source": [
                "# Define Reference Piano Sequence\r\n",
                "In this study we collect data on the learning rate of 'Ode To Joy' by Beethoven.\r\n",
                "Hence, we define the sequence of keys and the rhythm of the piano sequence."
            ],
            "metadata": {}
        },
        {
            "cell_type": "code",
            "execution_count": null,
            "source": [
                "ode_to_joy_key_sequence = ['E','E','F','G','G','F','E','D','C','C','D','E','E','D','D','E','E','F','G','G','F','E','D','C','C','D','E','D','C','C']\r\n",
                "\r\n",
                "\r\n",
                "beatPerMinute = 60\r\n",
                "quarter = 1 / 4\r\n",
                "speed = 60 / quarter / beatPerMinute\r\n",
                "quarterNoteDurationSeconds = (1 / 4) * speed\r\n",
                "threeEighthNoteDurationSeconds = (3 / 8) * speed\r\n",
                "eighthNoteDurationSeconds = (1 / 8) * speed\r\n",
                "halfNoteDurationSeconds = (1 / 2) * speed\r\n",
                "\r\n",
                "\r\n",
                "ode_to_joy_time_in_seconds_between_key_presses = [0, quarterNoteDurationSeconds,quarterNoteDurationSeconds,quarterNoteDurationSeconds,quarterNoteDurationSeconds,quarterNoteDurationSeconds,quarterNoteDurationSeconds,quarterNoteDurationSeconds,quarterNoteDurationSeconds,quarterNoteDurationSeconds,quarterNoteDurationSeconds,quarterNoteDurationSeconds,quarterNoteDurationSeconds,threeEighthNoteDurationSeconds, eighthNoteDurationSeconds,\r\n",
                "halfNoteDurationSeconds,quarterNoteDurationSeconds,quarterNoteDurationSeconds,quarterNoteDurationSeconds,quarterNoteDurationSeconds,quarterNoteDurationSeconds,quarterNoteDurationSeconds,quarterNoteDurationSeconds,quarterNoteDurationSeconds,quarterNoteDurationSeconds,quarterNoteDurationSeconds,quarterNoteDurationSeconds,quarterNoteDurationSeconds, threeEighthNoteDurationSeconds, eighthNoteDurationSeconds]\r\n"
            ],
            "outputs": [],
            "metadata": {}
        },
        {
            "cell_type": "markdown",
            "source": [
                "# Data Ingestion\r\n",
                "Recording ot the pre-test and post-test for a participant are each stored in a json file\r\n",
                "The answers of all participants to the questionnaire are stored in a csv file.\r\n",
                "\r\n",
                "Hence, we need to load the data and transform it  so that we can analyse it."
            ],
            "metadata": {}
        },
        {
            "cell_type": "code",
            "execution_count": null,
            "source": [
                "path_to_json_files = \"..\\\\study-results\"\r\n",
                "list_of_json_files = get_json_file_list(path_to_json_files)\r\n",
                "\r\n",
                "parsed_json_files = list(map(parse_json_file, list_of_json_files))\r\n",
                "\r\n",
                "\r\n",
                "pressed_keys = list(map(lambda result_of_one_recording_session: map_test_tries(result_of_one_recording_session, lambda test_try: map_press_sequence(test_try, extract_name_of_key)), parsed_json_files))\r\n",
                "\r\n",
                "distances_keys = map(lambda pressed_keys_one_session_array: np.min(list(map(lambda pressed_keys_one_try_array:dtw(ode_to_joy_key_sequence, pressed_keys_one_try_array, distance_piano_keys) ,pressed_keys_one_session_array))),pressed_keys)\r\n",
                "parsed_json_with_distance = zip(distances_keys, parsed_json_files)\r\n",
                "parsed_json_with_distance = list(map(lambda input_with_distance: insert_into_dictionary(input_with_distance[1],\"dtw_distance_keys_ode_to_joy\", input_with_distance[0]), parsed_json_with_distance))\r\n"
            ],
            "outputs": [],
            "metadata": {}
        },
        {
            "cell_type": "code",
            "execution_count": null,
            "source": [
                "rhythm_seconds = list(map(lambda result_of_one_recording_session: map_test_tries(result_of_one_recording_session, lambda test_try: map_press_sequence(test_try, extract_seconds_from_previous_key_press)), parsed_json_files))\r\n",
                "distances_seconds_between_keys = map(lambda seconds_between_presses_one_session_array: np.min(list(map(lambda seconds_between_presses_one_try_array:dtw(ode_to_joy_time_in_seconds_between_key_presses, seconds_between_presses_one_try_array, lambda x, y: np.abs(x - y)) ,seconds_between_presses_one_session_array))),rhythm_seconds)\r\n",
                "parsed_json_with_distance_rhythm = list(zip(distances_seconds_between_keys, parsed_json_files))\r\n",
                "distances_data_frame_rhythm = pd.DataFrame(map(lambda json_entry: {'test_id_rhythm_pre': json_entry[1]['id'], 'dtw_distance_rhythm_ode_to_joy_pre': json_entry[0]} , parsed_json_with_distance_rhythm))\r\n",
                "\r\n"
            ],
            "outputs": [],
            "metadata": {}
        },
        {
            "cell_type": "code",
            "execution_count": null,
            "source": [
                "\r\n",
                "\r\n",
                "csv_file_url =  \"..\\\\study-results\\\\piano study questionnaire.csv\"\r\n",
                "\r\n",
                "\r\n",
                "questionnaire_data_frame = pd.read_csv(csv_file_url)"
            ],
            "outputs": [],
            "metadata": {}
        },
        {
            "cell_type": "code",
            "execution_count": null,
            "source": [
                "distances_data_frame = pd.DataFrame(map(lambda json_entry: {'test_id_post': json_entry['id'], 'dtw_distance_keys_ode_to_joy_post': json_entry[\"dtw_distance_keys_ode_to_joy\"]} , parsed_json_with_distance))\r\n",
                "distances_data_frame['dtw_distance_keys_ode_to_joy_post'] = distances_data_frame['dtw_distance_keys_ode_to_joy_post'].replace(np.inf, 30)\r\n",
                "\r\n",
                "\r\n",
                "dataframe_with_results = questionnaire_data_frame.merge(distances_data_frame,left_on=\"Post Test Piano Results Id\", right_on=\"test_id_post\")\r\n",
                "\r\n",
                "distances_data_frame.columns = ['test_id_pre', 'dtw_distance_keys_ode_to_joy_pre']\r\n",
                "dataframe_with_results = dataframe_with_results.merge(distances_data_frame,left_on=\"Pre Test Piano Results Id\", right_on=\"test_id_pre\")"
            ],
            "outputs": [],
            "metadata": {}
        },
        {
            "cell_type": "code",
            "execution_count": null,
            "source": [
                "distance_if_infinity = np.sum(ode_to_joy_time_in_seconds_between_key_presses)\r\n",
                "distances_data_frame_rhythm['dtw_distance_rhythm_ode_to_joy_pre'] = distances_data_frame_rhythm['dtw_distance_rhythm_ode_to_joy_pre'].replace(np.inf, distance_if_infinity )\r\n",
                "dataframe_with_results = dataframe_with_results.merge(distances_data_frame_rhythm,left_on=\"Pre Test Piano Results Id\", right_on=\"test_id_rhythm_pre\")\r\n",
                "distances_data_frame_rhythm.columns = ['test_id_rhythm_post', 'dtw_distance_rhythm_ode_to_joy_post']\r\n",
                "dataframe_with_results = dataframe_with_results.merge(distances_data_frame_rhythm,left_on=\"Post Test Piano Results Id\", right_on=\"test_id_rhythm_post\")\r\n",
                "\r\n"
            ],
            "outputs": [],
            "metadata": {}
        },
        {
            "cell_type": "code",
            "execution_count": null,
            "source": [
                "\r\n",
                "\r\n",
                "    \r\n",
                "birthdays_data_frame = pd.DataFrame(columns=['reference', 'born'])\r\n",
                "dataframe_with_results['born'] = pd.to_datetime(dataframe_with_results['Wann wurden Sie geboren?'])\r\n",
                "dataframe_with_results['reference'] = pd.to_datetime(dataframe_with_results['Completion time'])\r\n",
                "\r\n",
                "dataframe_with_results['age']=(dataframe_with_results.apply(birthday_to_age, axis=1))\r\n"
            ],
            "outputs": [],
            "metadata": {}
        },
        {
            "cell_type": "code",
            "execution_count": null,
            "source": [
                "dataframe_with_results['piano_experience_years'] = dataframe_with_results['Wie viele Jahre haben Sie Klavier gespielt?'].replace('nie', 0).replace('keine', 0).astype(int)\r\n"
            ],
            "outputs": [],
            "metadata": {}
        },
        {
            "cell_type": "code",
            "execution_count": null,
            "source": [
                "dataframe_with_results['knows_ode_to_joy'] = dataframe_with_results['Haben Sie zuvor Beethoven: Ode an die Freude gehört?'].replace('Ja', 'Yes').replace('Nein', 'No')\r\n"
            ],
            "outputs": [],
            "metadata": {}
        },
        {
            "cell_type": "markdown",
            "source": [
                "Calculate NASA TLX"
            ],
            "metadata": {}
        },
        {
            "cell_type": "code",
            "execution_count": null,
            "source": [
                "tlx_weight_questions_df = dataframe_with_results[dataframe_with_results.columns[pd.Series(dataframe_with_results.columns).str.startswith('Wählen Sie den Aspekt, der für Sie den jeweils wichtigeren Beitrag zur Arbeitsbelastung hinsichtlich der Aufgabe darstellt.')]]\r\n",
                "categories_nasa_tlx = [\"Anstrengung\",\t\"Frustration\"\t,\"Geistige Anforderung\",\t\"Körperliche Anforderung\",\"Leistung\",\t\"Zeitliche Anforderung\"]\r\n",
                "\r\n",
                "nasa_tlx_dimension_scores = dataframe_with_results[categories_nasa_tlx].replace('100 (Hoch)', 100).replace(\"5 (Gering)\",5).replace(\"100 (Schlecht)\",100).astype(float)\r\n",
                "raw_weights = tlx_weight_questions_df.T.apply(pd.value_counts).fillna(0)\r\n",
                "nasa_tlx_weights = (raw_weights/15).T\r\n",
                "dataframe_with_results[\"NASA TLX score\"] = (nasa_tlx_dimension_scores * nasa_tlx_weights).sum(axis=1)"
            ],
            "outputs": [],
            "metadata": {}
        },
        {
            "cell_type": "markdown",
            "source": [
                "Transform answers to subjective questionnaire"
            ],
            "metadata": {}
        },
        {
            "cell_type": "code",
            "execution_count": null,
            "source": [
                "subjective_questions_data_frame = pd.DataFrame(columns=['trifft nicht zu','trifft eher nicht zu','teils-teils','trifft eher zu','trifft zu'])\r\n",
                "subjective_question_titles = ['Die 30 Minuten haben geholfen Piano zu lernen.', 'Es hat Spaß gemacht auf diese Art zu lernen.','Es war schwer eine Taste auf dem Klavier zu drücken ohne eine andere Taste zu drücken.', 'Ich kann mir vorstellen langfristig Klavier auf diese Weise zu lernen.', 'Es war leicht die Reihenfolge der Tasten für das Lied zu lernen.','Es war schwer den Rythmus des Liedes zu lernen.']\r\n",
                "subjective_question_titles_en = ['learn session helpful to learn piano', 'learning session was fun', 'accurately pressing piano key is difficult', 'can imagine it for long term piano learning', 'difficult to learn the rhythm of the song', 'difficult to learn the structure of the song']\r\n",
                "for question_title in subjective_question_titles:\r\n",
                "    learn_session_helpful_counts = dataframe_with_results[question_title].groupby(dataframe_with_results[question_title]).count()\r\n",
                "    learn_session_helpful_counts = learn_session_helpful_counts / learn_session_helpful_counts.sum()\r\n",
                "    subjective_questions_data_frame= subjective_questions_data_frame.append(learn_session_helpful_counts)\r\n",
                "\r\n",
                "likert_en = ['strongly disagree', 'disagree', 'neutral', 'agree', 'strongly agree']\r\n",
                "subjective_questions_data_frame.columns = likert_en\r\n",
                "subjective_questions_data_frame.index = subjective_question_titles_en\r\n",
                "subjective_questions_data_frame.fillna(0, inplace=True)\r\n",
                "subjective_questions_data_frame"
            ],
            "outputs": [],
            "metadata": {}
        },
        {
            "cell_type": "markdown",
            "source": [
                "# Explore the sample of the study"
            ],
            "metadata": {}
        },
        {
            "cell_type": "code",
            "execution_count": null,
            "source": [
                "\r\n",
                "\r\n",
                "print(dataframe_with_results['Was ist Ihr Geschlecht'].value_counts())\r\n",
                "plt.pie(dataframe_with_results['Was ist Ihr Geschlecht'].value_counts(), labels=['male', 'female'],autopct='%1.0f%%')\r\n",
                "plt.show()"
            ],
            "outputs": [],
            "metadata": {}
        },
        {
            "cell_type": "code",
            "execution_count": null,
            "source": [
                "print(dataframe_with_results['Was ist Ihre Händigkeit?'].value_counts())\r\n",
                "plt.pie(dataframe_with_results['Was ist Ihre Händigkeit?'].value_counts(), labels=['righthanded', 'lefthanded'],autopct='%1.0f%%')\r\n",
                "plt.show()"
            ],
            "outputs": [],
            "metadata": {}
        },
        {
            "cell_type": "code",
            "execution_count": null,
            "source": [
                "print(\"min age: %d\"%(dataframe_with_results['age'].min()))\r\n",
                "print(\"median age: %d\"%dataframe_with_results['age'].median())\r\n",
                "print(\"mean age: %d\"%dataframe_with_results['age'].mean())\r\n",
                "print(\"max age: %d\"%(dataframe_with_results['age'].max()))"
            ],
            "outputs": [],
            "metadata": {}
        },
        {
            "cell_type": "code",
            "execution_count": null,
            "source": [
                "print(dataframe_with_results['Haben Sie zuvor ein mixed reality Gerät benutzt?'].value_counts())\r\n",
                "plt.pie(dataframe_with_results['Haben Sie zuvor ein mixed reality Gerät benutzt?'].value_counts(), labels=['No', 'Yes'],autopct='%1.0f%%')\r\n",
                "plt.show()"
            ],
            "outputs": [],
            "metadata": {}
        },
        {
            "cell_type": "code",
            "execution_count": null,
            "source": [
                "print(dataframe_with_results['Haben Sie zuvor Beethoven: Ode an die Freude gehört?'].value_counts())\r\n",
                "plt.pie(dataframe_with_results['Haben Sie zuvor Beethoven: Ode an die Freude gehört?'].value_counts(), labels=['Yes', 'No'],autopct='%1.0f%%')\r\n",
                "plt.show()"
            ],
            "outputs": [],
            "metadata": {}
        },
        {
            "cell_type": "markdown",
            "source": [
                "# Explore Outcome of Learning Sessions"
            ],
            "metadata": {}
        },
        {
            "cell_type": "code",
            "execution_count": null,
            "source": [
                "\r\n",
                "colors_for_treatments = {'Holographic visual only':'red',\r\n",
                "      'Holographic haptics':'blue',\r\n",
                "      'Passive Haptic Learning':'green'}\r\n",
                "\r\n",
                "fig, ax = plt.subplots()\r\n",
                "\r\n",
                "reg_data = dataframe_with_results\r\n",
                "reg_data.plot(x='dtw_distance_keys_ode_to_joy_pre',\r\n",
                "              y='Treatment Participant Received',\r\n",
                "kind='scatter',\r\n",
                "ax=ax,\r\n",
                "c=[colors_for_treatments[x] for x in reg_data['Treatment Participant Received']])\r\n",
                "plt.show()"
            ],
            "outputs": [],
            "metadata": {}
        },
        {
            "cell_type": "code",
            "execution_count": null,
            "source": [
                "\r\n",
                "fig, ax = plt.subplots()\r\n",
                "\r\n",
                "reg_data = dataframe_with_results\r\n",
                "reg_data.plot(x='dtw_distance_keys_ode_to_joy_post',\r\n",
                "              y='Treatment Participant Received',\r\n",
                "kind='scatter',\r\n",
                "ax=ax,\r\n",
                "c=[colors_for_treatments[x] for x in reg_data['Treatment Participant Received']])\r\n",
                "plt.show()"
            ],
            "outputs": [],
            "metadata": {}
        },
        {
            "cell_type": "code",
            "execution_count": null,
            "source": [
                "dataframe_with_results['improvement_keys'] = dataframe_with_results['dtw_distance_keys_ode_to_joy_pre']-dataframe_with_results['dtw_distance_keys_ode_to_joy_post']\r\n",
                "\r\n",
                "\r\n",
                "fig, ax = plt.subplots()\r\n",
                "\r\n",
                "reg_data = dataframe_with_results\r\n",
                "reg_data.plot(x='improvement_keys',\r\n",
                "              y='Treatment Participant Received',\r\n",
                "kind='scatter',\r\n",
                "ax=ax,\r\n",
                "c=[colors_for_treatments[x] for x in reg_data['Treatment Participant Received']])\r\n",
                "plt.show()"
            ],
            "outputs": [],
            "metadata": {}
        },
        {
            "cell_type": "code",
            "execution_count": null,
            "source": [
                "fig, ax = plt.subplots()\r\n",
                "\r\n",
                "reg_data = dataframe_with_results\r\n",
                "reg_data.plot(x='improvement_keys',\r\n",
                "              y='piano_experience_years',\r\n",
                "kind='scatter',\r\n",
                "ax=ax)\r\n",
                "\r\n",
                "\r\n",
                "plt.show()"
            ],
            "outputs": [],
            "metadata": {}
        },
        {
            "cell_type": "code",
            "execution_count": null,
            "source": [
                "colors_yes_no = {'Yes':'blue','No':'red'}\r\n",
                "fig, ax = plt.subplots()\r\n",
                "\r\n",
                "reg_data = dataframe_with_results\r\n",
                "reg_data.plot(x='improvement_keys',\r\n",
                "              y='knows_ode_to_joy',\r\n",
                "kind='scatter',\r\n",
                "ax=ax,\r\n",
                "c= [colors_yes_no[x] for x in reg_data['knows_ode_to_joy']])\r\n",
                "plt.show()"
            ],
            "outputs": [],
            "metadata": {}
        },
        {
            "cell_type": "code",
            "execution_count": null,
            "source": [
                "fig, ax = plt.subplots()\r\n",
                "\r\n",
                "reg_data = dataframe_with_results\r\n",
                "reg_data.plot(x='dtw_distance_rhythm_ode_to_joy_pre',\r\n",
                "              y='Treatment Participant Received',\r\n",
                "kind='scatter',\r\n",
                "ax=ax,\r\n",
                "c=[colors_for_treatments[x] for x in reg_data['Treatment Participant Received']])\r\n",
                "plt.show()"
            ],
            "outputs": [],
            "metadata": {}
        },
        {
            "cell_type": "code",
            "execution_count": null,
            "source": [
                "fig, ax = plt.subplots()\r\n",
                "\r\n",
                "reg_data = dataframe_with_results\r\n",
                "reg_data.plot(x='dtw_distance_rhythm_ode_to_joy_post',\r\n",
                "              y='Treatment Participant Received',\r\n",
                "kind='scatter',\r\n",
                "ax=ax,\r\n",
                "c=[colors_for_treatments[x] for x in reg_data['Treatment Participant Received']])\r\n",
                "plt.show()"
            ],
            "outputs": [],
            "metadata": {}
        },
        {
            "cell_type": "code",
            "execution_count": null,
            "source": [
                "dataframe_with_results['improvement_rhythm'] = dataframe_with_results['dtw_distance_rhythm_ode_to_joy_pre']-dataframe_with_results['dtw_distance_rhythm_ode_to_joy_post']\r\n",
                "\r\n",
                "\r\n",
                "fig, ax = plt.subplots()\r\n",
                "\r\n",
                "reg_data = dataframe_with_results\r\n",
                "reg_data.plot(x='improvement_rhythm',\r\n",
                "              y='Treatment Participant Received',\r\n",
                "kind='scatter',\r\n",
                "ax=ax,\r\n",
                "c=[colors_for_treatments[x] for x in reg_data['Treatment Participant Received']])\r\n",
                "plt.show()"
            ],
            "outputs": [],
            "metadata": {}
        },
        {
            "cell_type": "code",
            "execution_count": null,
            "source": [
                "fig, ax = plt.subplots()\r\n",
                "haptics_results = dataframe_with_results.loc[dataframe_with_results['Treatment Participant Received']=='Holographic haptics']\r\n",
                "plt.scatter(haptics_results['improvement_keys'],haptics_results['age'])\r\n",
                "visual_results = dataframe_with_results.loc[dataframe_with_results['Treatment Participant Received']=='Holographic visual only']\r\n",
                "plt.scatter(visual_results['improvement_keys'], visual_results['age'])\r\n",
                "\r\n",
                "ax.legend([\"haptics\" , \"visual\"], ncol = 2 , loc = \"lower center\")\r\n",
                "plt.show()"
            ],
            "outputs": [],
            "metadata": {}
        },
        {
            "cell_type": "code",
            "execution_count": null,
            "source": [
                "\r\n",
                "\r\n",
                "fig, ax = plt.subplots()\r\n",
                "\r\n",
                "plt.bar(haptics_results.index, haptics_results['improvement_keys'])\r\n",
                "plt.bar(visual_results.index,visual_results['improvement_keys'], hatch= '.')\r\n",
                "\r\n",
                "ax.legend([\"haptics\" , \"visual\"] , ncol = 2, loc = \"upper center\", fontsize=\"x-large\")\r\n",
                "\r\n",
                "plt.xlabel('participants')\r\n",
                "plt.ylabel('learning rate')\r\n",
                "plt.savefig('./figures/learning_rate_keys_bar_chart.pdf',dpi=300, bbox_inches = \"tight\")\r\n",
                "plt.show()\r\n"
            ],
            "outputs": [],
            "metadata": {}
        },
        {
            "cell_type": "code",
            "execution_count": null,
            "source": [
                "fig, ax = plt.subplots()\r\n",
                "\r\n",
                "plt.bar(haptics_results.index, haptics_results['improvement_rhythm'])\r\n",
                "plt.bar(visual_results.index,visual_results['improvement_rhythm'], hatch= '.')\r\n",
                "\r\n",
                "ax.legend( [\"haptics\" , \"visual\"] , ncol=2, loc = \"upper center\", fontsize=\"x-large\")\r\n",
                "\r\n",
                "plt.xlabel('participants')\r\n",
                "plt.ylabel('learning rate (seconds)')\r\n",
                "plt.savefig('./figures/learning_rate_rhythm_bar_chart.pdf',dpi=300, bbox_inches = \"tight\")\r\n",
                "plt.show()"
            ],
            "outputs": [],
            "metadata": {}
        },
        {
            "cell_type": "markdown",
            "source": [
                "Statistical analysis"
            ],
            "metadata": {}
        },
        {
            "cell_type": "code",
            "execution_count": null,
            "source": [
                "explorative_statistic_for_t_test(dataframe_with_results, 'improvement_keys')"
            ],
            "outputs": [],
            "metadata": {}
        },
        {
            "cell_type": "code",
            "execution_count": null,
            "source": [
                "explorative_statistic_for_t_test(dataframe_with_results, 'improvement_rhythm')\r\n"
            ],
            "outputs": [],
            "metadata": {}
        },
        {
            "cell_type": "markdown",
            "source": [
                "# Performance of learning enviroment"
            ],
            "metadata": {}
        },
        {
            "cell_type": "markdown",
            "source": [
                "Paired T-Tests show that the error of key presses and rhythm are significntly reduced after the learning session for both the haptic learning group and the visual learning group."
            ],
            "metadata": {}
        },
        {
            "cell_type": "code",
            "execution_count": null,
            "source": [
                "visual_only_keys_post = dataframe_with_results.loc[dataframe_with_results['Treatment Participant Received']=='Holographic visual only']['dtw_distance_keys_ode_to_joy_post']\r\n",
                "visual_only_keys_pre = dataframe_with_results.loc[dataframe_with_results['Treatment Participant Received']=='Holographic visual only']['dtw_distance_keys_ode_to_joy_pre']\r\n",
                "print(ttest_rel(visual_only_keys_post, visual_only_keys_pre, alternative='less'))\r\n",
                "print(\"cohens d={0:.3f}\".format((visual_only_keys_pre.mean() - visual_only_keys_post.mean())/ (visual_only_keys_pre - visual_only_keys_post).std()))\r\n",
                "\r\n",
                "haptic_keys_post = dataframe_with_results.loc[dataframe_with_results['Treatment Participant Received']=='Holographic haptics']['dtw_distance_keys_ode_to_joy_post']\r\n",
                "haptic_keys_pre = dataframe_with_results.loc[dataframe_with_results['Treatment Participant Received']=='Holographic haptics']['dtw_distance_keys_ode_to_joy_pre']\r\n",
                "print(ttest_rel(haptic_keys_post, haptic_keys_pre, alternative='less'))\r\n",
                "print(\"cohens d={0:.3f}\".format((haptic_keys_pre.mean() - haptic_keys_post.mean())/ (haptic_keys_pre - haptic_keys_post).std()))"
            ],
            "outputs": [],
            "metadata": {}
        },
        {
            "cell_type": "code",
            "execution_count": null,
            "source": [
                "visual_only_rhythm_post = dataframe_with_results.loc[dataframe_with_results['Treatment Participant Received']=='Holographic visual only']['dtw_distance_rhythm_ode_to_joy_post']\r\n",
                "visual_only_rhythm_pre = dataframe_with_results.loc[dataframe_with_results['Treatment Participant Received']=='Holographic visual only']['dtw_distance_rhythm_ode_to_joy_pre']\r\n",
                "print(ttest_rel(visual_only_rhythm_post, visual_only_rhythm_pre, alternative='less'))\r\n",
                "print(\"cohens d={0:.3f}\".format((visual_only_rhythm_pre.mean() - visual_only_rhythm_post.mean())/ (visual_only_rhythm_pre - visual_only_rhythm_post).std()))\r\n",
                "\r\n",
                "haptic_rhythm_post = dataframe_with_results.loc[dataframe_with_results['Treatment Participant Received']=='Holographic haptics']['dtw_distance_rhythm_ode_to_joy_post']\r\n",
                "haptic_rhythm_pre = dataframe_with_results.loc[dataframe_with_results['Treatment Participant Received']=='Holographic haptics']['dtw_distance_rhythm_ode_to_joy_pre']\r\n",
                "print(ttest_rel(haptic_rhythm_post, haptic_rhythm_pre, alternative='less'))\r\n",
                "print(\"cohens d={0:.3f}\".format((haptic_keys_pre.mean() - haptic_rhythm_post.mean())/ (haptic_keys_pre - haptic_rhythm_post).std()))\r\n",
                "\r\n"
            ],
            "outputs": [],
            "metadata": {}
        },
        {
            "cell_type": "markdown",
            "source": [
                "Unpaired T-Test to measure performance of learn environment shows that the performance of the haptic learning group is not significantly different from the performance of the visual learning group for both key sequence and rhythm."
            ],
            "metadata": {}
        },
        {
            "cell_type": "code",
            "execution_count": null,
            "source": [
                "ttest_ind(dataframe_with_results.loc[dataframe_with_results['Treatment Participant Received']=='Holographic haptics']['improvement_keys'], dataframe_with_results.loc[dataframe_with_results['Treatment Participant Received']=='Holographic visual only']['improvement_keys'])"
            ],
            "outputs": [],
            "metadata": {}
        },
        {
            "cell_type": "code",
            "execution_count": null,
            "source": [
                "ttest_ind(dataframe_with_results.loc[dataframe_with_results['Treatment Participant Received']=='Holographic haptics']['improvement_rhythm'], dataframe_with_results.loc[dataframe_with_results['Treatment Participant Received']=='Holographic visual only']['improvement_rhythm'])"
            ],
            "outputs": [],
            "metadata": {}
        },
        {
            "cell_type": "markdown",
            "source": [
                "# Performance Rhythm"
            ],
            "metadata": {}
        },
        {
            "cell_type": "markdown",
            "source": [
                "# NASA TLX for cognitive load"
            ],
            "metadata": {}
        },
        {
            "cell_type": "code",
            "execution_count": null,
            "source": [
                "\r\n",
                "fig, ax = plt.subplots()\r\n",
                "\r\n",
                "reg_data = dataframe_with_results\r\n",
                "reg_data.plot(x='NASA TLX score',\r\n",
                "              y='Treatment Participant Received',\r\n",
                "kind='scatter',\r\n",
                "ax=ax,\r\n",
                "c=[colors_for_treatments[x] for x in reg_data['Treatment Participant Received']])\r\n",
                "plt.show()"
            ],
            "outputs": [],
            "metadata": {}
        },
        {
            "cell_type": "code",
            "execution_count": null,
            "source": [
                "fig, ax = plt.subplots()\r\n",
                "\r\n",
                "reg_data = dataframe_with_results\r\n",
                "reg_data.plot(x='NASA TLX score',\r\n",
                "              y='age',\r\n",
                "kind='scatter',\r\n",
                "ax=ax)\r\n",
                "plt.show()"
            ],
            "outputs": [],
            "metadata": {}
        },
        {
            "cell_type": "code",
            "execution_count": null,
            "source": [
                "print(\"mean TLX haptic = {0:.3f}\".format(haptics_results['NASA TLX score'].mean()))\r\n",
                "print(\"mean TLX visual = {0:.3f}\".format(visual_results['NASA TLX score'].mean()))"
            ],
            "outputs": [],
            "metadata": {}
        },
        {
            "cell_type": "code",
            "execution_count": null,
            "source": [
                "\r\n",
                "\r\n",
                "fig, ax = plt.subplots()\r\n",
                "plt.bar(haptics_results.index,haptics_results['NASA TLX score'])\r\n",
                "plt.bar(visual_results.index, visual_results['NASA TLX score'])\r\n",
                "\r\n",
                "ax.legend([\"haptics\" , \"visual\"] , loc = \"upper right\")\r\n",
                "\r\n",
                "plt.xlabel('participants')\r\n",
                "plt.ylabel('NASA TLX score')\r\n",
                "plt.show()"
            ],
            "outputs": [],
            "metadata": {}
        },
        {
            "cell_type": "code",
            "execution_count": null,
            "source": [
                "explorative_statistic_for_t_test(dataframe_with_results, 'NASA TLX score')"
            ],
            "outputs": [],
            "metadata": {}
        },
        {
            "cell_type": "markdown",
            "source": [
                "Analysing TLX score with t-test shows that the TLX score is not significantly different between the group who received visual learning and the group who received haptic learning."
            ],
            "metadata": {}
        },
        {
            "cell_type": "code",
            "execution_count": null,
            "source": [
                "ttest_ind(dataframe_with_results.loc[dataframe_with_results['Treatment Participant Received']=='Holographic haptics']['NASA TLX score'], dataframe_with_results.loc[dataframe_with_results['Treatment Participant Received']=='Holographic visual only']['NASA TLX score'])"
            ],
            "outputs": [],
            "metadata": {}
        },
        {
            "cell_type": "markdown",
            "source": [
                "## Plot Likert Scale Questions\r\n"
            ],
            "metadata": {}
        },
        {
            "cell_type": "code",
            "execution_count": null,
            "source": [
                "\r\n",
                "\r\n",
                "labels =likert_en\r\n",
                "colors = ['#1D2F6F', '#8390FA', '#6EAF46', '#FAC748', '#FAA748']\r\n",
                "hatches = ['','*', '\\\\', '.', 'x']\r\n",
                "\r\n",
                "\r\n",
                "\r\n",
                "plot_stackedbar_chart(subjective_questions_data_frame, labels, colors)\r\n",
                "\r\n",
                "plt.savefig('./figures/subjective_stacked_bar_chart.pdf',dpi=300, bbox_inches = \"tight\")\r\n",
                "plt.show()"
            ],
            "outputs": [],
            "metadata": {}
        }
    ],
    "metadata": {
        "orig_nbformat": 4,
        "language_info": {
            "name": "python",
            "version": "3.8.8",
            "mimetype": "text/x-python",
            "codemirror_mode": {
                "name": "ipython",
                "version": 3
            },
            "pygments_lexer": "ipython3",
            "nbconvert_exporter": "python",
            "file_extension": ".py"
        },
        "kernelspec": {
            "name": "python3",
            "display_name": "Python 3.8.8 64-bit ('base': conda)"
        },
        "interpreter": {
            "hash": "d9d8773375c34bc59fa11cb05bf413bc4169a90c46e58e92f9ae41e72c0ae09c"
        }
    },
    "nbformat": 4,
    "nbformat_minor": 2
}